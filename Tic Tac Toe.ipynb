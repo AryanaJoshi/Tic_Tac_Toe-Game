{
 "cells": [
  {
   "cell_type": "code",
   "execution_count": 1,
   "metadata": {},
   "outputs": [],
   "source": [
    "#from  IPython.display import clear_output # clear the screens between moves\n",
    "#from os import system\n",
    "def display_board(board):\n",
    "    #clear_output\n",
    "    #system('sleep 1')\n",
    "    print(board[7]+'|'+board[8]+'|'+board[9])\n",
    "    print(board[4]+'|'+board[5]+'|'+board[6])\n",
    "    print(board[1]+'|'+board[2]+'|'+board[3])"
   ]
  },
  {
   "cell_type": "code",
   "execution_count": null,
   "metadata": {},
   "outputs": [],
   "source": []
  },
  {
   "cell_type": "code",
   "execution_count": null,
   "metadata": {},
   "outputs": [],
   "source": []
  },
  {
   "cell_type": "code",
   "execution_count": 2,
   "metadata": {},
   "outputs": [],
   "source": [
    "def player_input():\n",
    "    '''\n",
    "    Output = (Player1, Player2)\n",
    "    '''\n",
    "    marker=' '\n",
    "    \n",
    "    while not (marker == 'X' or marker=='O'):\n",
    "        marker= input('Player1: Choose X or O: ').upper()\n",
    "        \n",
    "    if marker =='X':\n",
    "        return ('X','O')\n",
    "    else:\n",
    "        return('O','X')"
   ]
  },
  {
   "cell_type": "code",
   "execution_count": null,
   "metadata": {},
   "outputs": [],
   "source": []
  },
  {
   "cell_type": "code",
   "execution_count": null,
   "metadata": {},
   "outputs": [],
   "source": []
  },
  {
   "cell_type": "code",
   "execution_count": 3,
   "metadata": {},
   "outputs": [],
   "source": [
    "def place_marker(board,marker,position):\n",
    "    board[position]=marker"
   ]
  },
  {
   "cell_type": "code",
   "execution_count": null,
   "metadata": {},
   "outputs": [],
   "source": []
  },
  {
   "cell_type": "code",
   "execution_count": 4,
   "metadata": {},
   "outputs": [],
   "source": [
    "def win_check(board,mark):\n",
    "       return (\n",
    "    (board[7] == board[8] ==board[9] == mark) or # across the top\n",
    "    (board[4] == board[5] == board[6] == mark) or # across the middle\n",
    "    (board[1] == board[2] == board[3] == mark) or # across the bottom\n",
    "    (board[7] == board[4] == board[1] == mark) or # down the middle\n",
    "    (board[8] == board[5] == board[2] == mark) or # down the middle\n",
    "    (board[9] == board[6] == board[3] == mark) or # down the right side\n",
    "    (board[7] == board[5] == board[3] == mark) or # diagonal\n",
    "    (board[9] == board[5] == board[1] == mark)) # diagonal"
   ]
  },
  {
   "cell_type": "code",
   "execution_count": null,
   "metadata": {},
   "outputs": [],
   "source": []
  },
  {
   "cell_type": "code",
   "execution_count": null,
   "metadata": {},
   "outputs": [],
   "source": []
  },
  {
   "cell_type": "code",
   "execution_count": 5,
   "metadata": {},
   "outputs": [],
   "source": [
    "import random\n",
    "def choose_first():\n",
    "    flip=random.randint(0,1)\n",
    "    if flip == 0:\n",
    "        return 'Player2'\n",
    "    else:\n",
    "        return 'Player1'"
   ]
  },
  {
   "cell_type": "code",
   "execution_count": null,
   "metadata": {},
   "outputs": [],
   "source": []
  },
  {
   "cell_type": "code",
   "execution_count": null,
   "metadata": {},
   "outputs": [],
   "source": []
  },
  {
   "cell_type": "code",
   "execution_count": 6,
   "metadata": {},
   "outputs": [],
   "source": [
    "def space_check(board, position):\n",
    "    \n",
    "    return board[position] == ' '"
   ]
  },
  {
   "cell_type": "code",
   "execution_count": null,
   "metadata": {},
   "outputs": [],
   "source": []
  },
  {
   "cell_type": "code",
   "execution_count": null,
   "metadata": {},
   "outputs": [],
   "source": []
  },
  {
   "cell_type": "code",
   "execution_count": 7,
   "metadata": {},
   "outputs": [],
   "source": [
    "def space_available(board):\n",
    "    for i in range(1,10):\n",
    "        if space_check(board,i):\n",
    "                   return False\n",
    "    return True # board is full if we return True"
   ]
  },
  {
   "cell_type": "code",
   "execution_count": null,
   "metadata": {},
   "outputs": [],
   "source": []
  },
  {
   "cell_type": "code",
   "execution_count": null,
   "metadata": {},
   "outputs": [],
   "source": []
  },
  {
   "cell_type": "code",
   "execution_count": 8,
   "metadata": {},
   "outputs": [],
   "source": [
    "def player_choice(board, player):\n",
    "    choice=0\n",
    "  \n",
    "    while choice not in [1,2,3,4,5,6,7,8,9] or not space_check(board,choice):\n",
    "        print(player)\n",
    "        choice=int(input(' Which position:(1-9) '))\n",
    "    return choice"
   ]
  },
  {
   "cell_type": "code",
   "execution_count": null,
   "metadata": {},
   "outputs": [],
   "source": []
  },
  {
   "cell_type": "code",
   "execution_count": null,
   "metadata": {},
   "outputs": [],
   "source": []
  },
  {
   "cell_type": "code",
   "execution_count": null,
   "metadata": {},
   "outputs": [],
   "source": [
    "def replay():\n",
    "    return input('Do you want to play again? Enter Yes or No: ').lower().startswith('y')\n",
    "        "
   ]
  },
  {
   "cell_type": "code",
   "execution_count": null,
   "metadata": {},
   "outputs": [],
   "source": []
  },
  {
   "cell_type": "code",
   "execution_count": null,
   "metadata": {},
   "outputs": [],
   "source": []
  },
  {
   "cell_type": "code",
   "execution_count": null,
   "metadata": {},
   "outputs": [
    {
     "name": "stdout",
     "output_type": "stream",
     "text": [
      "Welcome to tic tac toe\n",
      "Player1: Choose X or O: o\n",
      "Player2will go first\n",
      "Ready to play? y or n?y\n",
      " | | \n",
      " | | \n",
      " | | \n",
      "Player2\n",
      " Which position:(1-9) 2\n",
      " | | \n",
      " | | \n",
      " |X| \n",
      "Player1\n",
      " Which position:(1-9) 1\n",
      " | | \n",
      " | | \n",
      "O|X| \n",
      "Player2\n",
      " Which position:(1-9) 8\n",
      " |X| \n",
      " | | \n",
      "O|X| \n",
      "Player1\n",
      " Which position:(1-9) 9\n",
      " |X|O\n",
      " | | \n",
      "O|X| \n",
      "Player2\n",
      " Which position:(1-9) 5\n",
      " |X|O\n",
      " |X| \n",
      "O|X| \n",
      "The winner is Player2!!\n"
     ]
    }
   ],
   "source": [
    "#while loop to keep running the game\n",
    "print(\"Welcome to tic tac toe\")\n",
    "while True:\n",
    "        #play game\n",
    "        #set everything up : board,who is first, choose markers X,O\n",
    "    the_board=[' ']*10\n",
    "    player1_marker, player2_marker=player_input()\n",
    "\n",
    "    turn = choose_first()\n",
    "    print(turn + 'will go first')\n",
    "\n",
    "    play_game=input('Ready to play? y or n?')\n",
    "    if play_game.lower()[0] =='y' :\n",
    "        game_on=True\n",
    "    else:\n",
    "        game_on=False\n",
    "        #game\n",
    "    while game_on:\n",
    "        if turn=='Player1': \n",
    "            #Show the board\n",
    "            display_board(the_board)\n",
    "            #choose a position\n",
    "            choice= player_choice(the_board, 'Player1')\n",
    "            #place marker on position\n",
    "            place_marker(the_board,player1_marker,choice)\n",
    "            #check if won\n",
    "            if win_check(the_board,player1_marker):\n",
    "                display_board(the_board)\n",
    "                print('The winner is Player1!!')\n",
    "                game_on=False\n",
    "            else:\n",
    "                #check tie #check if board is full\n",
    "                if space_available(the_board):\n",
    "                    display_board(the_board)\n",
    "                    print('Its a tie')\n",
    "                    break\n",
    "                else: \n",
    "                    turn='Player2'\n",
    "                #no check no tie then next player's turn\n",
    "\n",
    "        else:\n",
    "             #Second Player turn\n",
    "                #Show the board\n",
    "            display_board(the_board)\n",
    "            #choose a position\n",
    "            choice= player_choice(the_board,'Player2')\n",
    "            #place marker on position\n",
    "            place_marker(the_board,player2_marker,choice)\n",
    "            #check if won\n",
    "            if win_check(the_board,player2_marker):\n",
    "                display_board(the_board)\n",
    "                print('The winner is Player2!!')\n",
    "                game_on=False\n",
    "            else:\n",
    "                 #check tie #check if board is full\n",
    "                if space_available(the_board):\n",
    "                    display_board(the_board)\n",
    "                    print('Its a tie')\n",
    "                    break\n",
    "                else: \n",
    "                    turn='Player1'\n",
    "\n",
    "\n",
    "if not replay():\n",
    "    break\n",
    "    #break out on replay()"
   ]
  },
  {
   "cell_type": "code",
   "execution_count": null,
   "metadata": {},
   "outputs": [],
   "source": []
  },
  {
   "cell_type": "code",
   "execution_count": null,
   "metadata": {},
   "outputs": [],
   "source": []
  },
  {
   "cell_type": "code",
   "execution_count": null,
   "metadata": {},
   "outputs": [],
   "source": []
  },
  {
   "cell_type": "code",
   "execution_count": null,
   "metadata": {},
   "outputs": [],
   "source": []
  },
  {
   "cell_type": "code",
   "execution_count": null,
   "metadata": {},
   "outputs": [],
   "source": []
  },
  {
   "cell_type": "code",
   "execution_count": null,
   "metadata": {},
   "outputs": [],
   "source": []
  },
  {
   "cell_type": "code",
   "execution_count": null,
   "metadata": {},
   "outputs": [],
   "source": []
  },
  {
   "cell_type": "code",
   "execution_count": null,
   "metadata": {},
   "outputs": [],
   "source": []
  },
  {
   "cell_type": "code",
   "execution_count": null,
   "metadata": {},
   "outputs": [],
   "source": []
  },
  {
   "cell_type": "code",
   "execution_count": null,
   "metadata": {},
   "outputs": [],
   "source": []
  },
  {
   "cell_type": "code",
   "execution_count": null,
   "metadata": {},
   "outputs": [],
   "source": []
  },
  {
   "cell_type": "code",
   "execution_count": null,
   "metadata": {},
   "outputs": [],
   "source": []
  }
 ],
 "metadata": {
  "kernelspec": {
   "display_name": "Python 3",
   "language": "python",
   "name": "python3"
  },
  "language_info": {
   "codemirror_mode": {
    "name": "ipython",
    "version": 3
   },
   "file_extension": ".py",
   "mimetype": "text/x-python",
   "name": "python",
   "nbconvert_exporter": "python",
   "pygments_lexer": "ipython3",
   "version": "3.6.4"
  }
 },
 "nbformat": 4,
 "nbformat_minor": 2
}
